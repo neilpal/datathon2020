{
 "cells": [
  {
   "cell_type": "code",
   "execution_count": null,
   "metadata": {},
   "outputs": [],
   "source": [
    "import pandas as pd\n",
    "import numpy as np"
   ]
  },
  {
   "cell_type": "code",
   "execution_count": null,
   "metadata": {},
   "outputs": [],
   "source": [
    "mobility_data = pd.read_csv('2020_US_Region_Mobility_Report.csv')"
   ]
  },
  {
   "cell_type": "code",
   "execution_count": null,
   "metadata": {},
   "outputs": [],
   "source": [
    "mobility_data.describe()"
   ]
  },
  {
   "cell_type": "code",
   "execution_count": null,
   "metadata": {},
   "outputs": [],
   "source": [
    "mobility_data.columns"
   ]
  },
  {
   "cell_type": "code",
   "execution_count": null,
   "metadata": {},
   "outputs": [],
   "source": [
    "def add_zero(x):\n",
    "    if len(x) == 4:\n",
    "        return '0' + x\n",
    "    return x"
   ]
  },
  {
   "cell_type": "code",
   "execution_count": null,
   "metadata": {},
   "outputs": [],
   "source": [
    "import plotly.express as px"
   ]
  },
  {
   "cell_type": "code",
   "execution_count": null,
   "metadata": {},
   "outputs": [],
   "source": [
    "df = mobility_data[mobility_data['census_fips_code'].notna()]\n",
    "df = df[df['retail_and_recreation_percent_change_from_baseline'].notna()]\n",
    "\n",
    "df.drop(df.columns[[0, 1, 2, 3, 4, 5, 7, 9, 10, 11, 12, 13]], axis=1, inplace=True)\n",
    "\n",
    "df = df.groupby('census_fips_code', as_index = False).mean()\n",
    "\n",
    "df['census_fips_code'] = (df['census_fips_code']).astype(int)\n",
    "df['census_fips_code'] = (df['census_fips_code']).astype(str)"
   ]
  },
  {
   "cell_type": "code",
   "execution_count": null,
   "metadata": {},
   "outputs": [],
   "source": [
    "df['census_fips_code'] = (df['census_fips_code']).map(add_zero)"
   ]
  },
  {
   "cell_type": "code",
   "execution_count": null,
   "metadata": {},
   "outputs": [],
   "source": [
    "from urllib.request import urlopen\n",
    "import json\n",
    "with urlopen('https://raw.githubusercontent.com/plotly/datasets/master/geojson-counties-fips.json') as response:\n",
    "    counties = json.load(response)\n",
    "\n",
    "import plotly.express as px\n",
    "\n",
    "fig = px.choropleth(df, geojson=counties, locations='census_fips_code', color='retail_and_recreation_percent_change_from_baseline',\n",
    "                           color_continuous_scale=\"Blackbody\",\n",
    "                           range_color=(-50, 20),\n",
    "                           scope=\"usa\",\n",
    "                           labels={'retail_and_recreation_percent_change_from_baseline':'Retail and Recreation Percent Change From Baseline'}\n",
    "                          )\n",
    "fig.update_layout(margin={\"r\":0,\"t\":0,\"l\":0,\"b\":0})\n",
    "fig.show()"
   ]
  },
  {
   "cell_type": "code",
   "execution_count": null,
   "metadata": {},
   "outputs": [],
   "source": [
    "df = mobility_data[mobility_data['census_fips_code'].notna()]\n",
    "df = df[df['grocery_and_pharmacy_percent_change_from_baseline'].notna()]\n",
    "\n",
    "df.drop(df.columns[[0, 1, 2, 3, 4, 5, 7, 8, 10, 11, 12, 13]], axis=1, inplace=True)\n",
    "\n",
    "df = df.groupby('census_fips_code', as_index = False).mean()\n",
    "\n",
    "df['census_fips_code'] = (df['census_fips_code']).astype(int)\n",
    "df['census_fips_code'] = (df['census_fips_code']).astype(str)\n",
    "df['census_fips_code'] = (df['census_fips_code']).map(add_zero)"
   ]
  },
  {
   "cell_type": "code",
   "execution_count": null,
   "metadata": {},
   "outputs": [],
   "source": [
    "with urlopen('https://raw.githubusercontent.com/plotly/datasets/master/geojson-counties-fips.json') as response:\n",
    "    counties = json.load(response)\n",
    "\n",
    "import plotly.express as px\n",
    "\n",
    "fig = px.choropleth(df, geojson=counties, locations='census_fips_code', color='grocery_and_pharmacy_percent_change_from_baseline',\n",
    "                           color_continuous_scale=\"Blackbody\",\n",
    "                           range_color=(-50, 20),\n",
    "                           scope=\"usa\",\n",
    "                           labels={'grocery_and_pharmacy_percent_change_from_baseline':'Grocery and Pharmacy Percent Change From Baseline'}\n",
    "                          )\n",
    "fig.update_layout(margin={\"r\":0,\"t\":0,\"l\":0,\"b\":0})\n",
    "fig.show()"
   ]
  },
  {
   "cell_type": "code",
   "execution_count": null,
   "metadata": {},
   "outputs": [],
   "source": [
    "df = mobility_data[mobility_data['census_fips_code'].notna()]\n",
    "df = df[df['transit_stations_percent_change_from_baseline'].notna()]\n",
    "\n",
    "df.drop(df.columns[[0, 1, 2, 3, 4, 5, 7, 8, 9, 10, 12, 13]], axis=1, inplace=True)\n",
    "\n",
    "df = df.groupby('census_fips_code', as_index = False).mean()\n",
    "\n",
    "df['census_fips_code'] = (df['census_fips_code']).astype(int)\n",
    "df['census_fips_code'] = (df['census_fips_code']).astype(str)\n",
    "df['census_fips_code'] = (df['census_fips_code']).map(add_zero)"
   ]
  },
  {
   "cell_type": "code",
   "execution_count": null,
   "metadata": {},
   "outputs": [],
   "source": [
    "with urlopen('https://raw.githubusercontent.com/plotly/datasets/master/geojson-counties-fips.json') as response:\n",
    "    counties = json.load(response)\n",
    "\n",
    "import plotly.express as px\n",
    "\n",
    "fig = px.choropleth(df, geojson=counties, locations='census_fips_code', color='transit_stations_percent_change_from_baseline',\n",
    "                           color_continuous_scale=\"Blackbody\",\n",
    "                           range_color=(-50, 20),\n",
    "                           scope=\"usa\",\n",
    "                           labels={'transit_stations_percent_change_from_baseline':'Transit Stations Percent Change from Baseline'}\n",
    "                          )\n",
    "fig.update_layout(margin={\"r\":0,\"t\":0,\"l\":0,\"b\":0})\n",
    "fig.show()"
   ]
  },
  {
   "cell_type": "code",
   "execution_count": null,
   "metadata": {},
   "outputs": [],
   "source": [
    "covid = pd.read_csv('covid_us_county.csv')"
   ]
  },
  {
   "cell_type": "code",
   "execution_count": null,
   "metadata": {},
   "outputs": [],
   "source": [
    "covid.columns"
   ]
  },
  {
   "cell_type": "code",
   "execution_count": null,
   "metadata": {},
   "outputs": [],
   "source": [
    "df = covid[covid['fips'].notna()]\n",
    "df = df[df['deaths'].notna()]\n",
    "\n",
    "df.drop(df.columns[[1,2,3,4,5,6,7]], axis=1, inplace=True)\n",
    "\n",
    "df = df.groupby('fips', as_index = False).mean()\n",
    "\n",
    "df['fips'] = (df['fips']).astype(int)\n",
    "df['fips'] = (df['fips']).astype(str)\n",
    "df['fips'] = (df['fips']).map(add_zero)"
   ]
  },
  {
   "cell_type": "code",
   "execution_count": null,
   "metadata": {},
   "outputs": [],
   "source": [
    "from urllib.request import urlopen\n",
    "import json\n",
    "with urlopen('https://raw.githubusercontent.com/plotly/datasets/master/geojson-counties-fips.json') as response:\n",
    "    counties = json.load(response)\n",
    "\n",
    "import plotly.express as px\n",
    "\n",
    "fig = px.choropleth(df, geojson=counties, locations='fips', color='deaths',\n",
    "                           color_continuous_scale=\"Blackbody\",\n",
    "                           range_color=(0, 50),\n",
    "                           scope=\"usa\",\n",
    "                           labels={'deaths':'COVID-19 Deaths per 100,000 people'}\n",
    "                          )\n",
    "#fig.update_layout(margin={\"r\":0,\"t\":0,\"l\":0,\"b\":0})\n",
    "fig.show()"
   ]
  },
  {
   "cell_type": "code",
   "execution_count": null,
   "metadata": {},
   "outputs": [],
   "source": [
    "risks = pd.read_csv('CovidRiskComputations.csv')\n",
    "risks.drop(risks.columns[[0,1,2,3,4]], axis=1, inplace=True)\n",
    "risks = risks.T"
   ]
  },
  {
   "cell_type": "code",
   "execution_count": null,
   "metadata": {},
   "outputs": [],
   "source": []
  }
 ],
 "metadata": {
  "kernelspec": {
   "display_name": "Python 3",
   "language": "python",
   "name": "python3"
  },
  "language_info": {
   "codemirror_mode": {
    "name": "ipython",
    "version": 3
   },
   "file_extension": ".py",
   "mimetype": "text/x-python",
   "name": "python",
   "nbconvert_exporter": "python",
   "pygments_lexer": "ipython3",
   "version": "3.8.3"
  }
 },
 "nbformat": 4,
 "nbformat_minor": 4
}
